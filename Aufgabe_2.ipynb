{
 "cells": [
  {
   "cell_type": "markdown",
   "metadata": {},
   "source": [
    "## **Aufgabe 2 - Schaltkreis**\n",
    "\n",
    "Gegeben ist ein Schaltkreis mit einer Spannungsquelle $U_1$ sowie vier Widerständen $R_i$:\n",
    "\n",
    "![alt text](Abbildungen/schaltkreis.png)\n",
    "\n",
    "Aus den Kirschhof'schen Gesetzen lässt sich daraus ein Gleichungssystem für die Ströme $I_i$ wie folgt herleiten:\n",
    "\n",
    "$$ \\begin{pmatrix} 1 & -1 & -1 \\\\ (R_1 + R_4) & R_2 & 0 \\\\ 0 & -R_2 & R_3 \\end{pmatrix} \\cdot \\begin{pmatrix} I_1 \\\\ I_2 \\\\ I_3 \\end{pmatrix} = \\begin{pmatrix} 0 \\\\ U_0 \\\\ 0 \\end{pmatrix} $$\n",
    "\n",
    "\n",
    "### **Teilaufgaben**\n",
    "\n",
    "1. Zur Lösung soll das iterative **Gauss-Seidel** Lösungsverfahren genutzt werden. Schreiben Sie eine Funktion namens `gauss_seidel(A, b)`. Diese soll für eine übergebene Koeffizientenmatrix `A` sowie dem konstanten Vektor `b` den berechneten Lösungsvektor zurückgeben. **Hinweis:** Nutzen Sie keine fertige Funktion von `Numpy` oder `SciPy`, sondern schreiben Sie das Lösungsverfahren selbst.\n",
    "2. Berechnen Sie mit der geschriebenen Funktion die Ströme $I_1$, $I_2$ sowie $I_3$ und geben Sie diese aus."
   ]
  },
  {
   "cell_type": "markdown",
   "metadata": {},
   "source": [
    "============================================================================================================================\n",
    "### **Implementierung**\n",
    "\n",
    "#### Teilaufgabe 1: Implementierung des Gauss-Seidel-Verfahrens ohne Bibliotheken\n",
    "\n",
    "Der Code implementiert das Gauss-Seidel-Verfahren, um lineare Gleichungssysteme der Form `A ⋅ x = b` zu lösen. Ein Anfangsvektor `x` wird mit Nullen initialisiert und iterativ aktualisiert, wobei die neuesten Werte für eine schnellere Konvergenz verwendet werden. Der Algorithmus prüft nach jeder Iteration, ob die Differenz zwischen der alten und der neuen Lösung kleiner als eine vorgegebene Toleranz ist, und beendet den Prozess, wenn die Konvergenz erreicht ist. Die maximale Anzahl der Iterationen für diese Aufgabe ist auf **120** festgelegt. Wird die Konvergenz nicht erreicht, wird ein Fehler ausgegeben."
   ]
  },
  {
   "cell_type": "code",
   "execution_count": 17,
   "metadata": {},
   "outputs": [],
   "source": [
    "def gauss_seidel(A, b, tol=1e-6, max_iterations=120):\n",
    "    n = len(b)\n",
    "    x = [0.0] * n  # Initialer Lösungsvektor\n",
    "\n",
    "    for iteration in range(max_iterations):\n",
    "        x_neu = x.copy()\n",
    "\n",
    "        for i in range(n):\n",
    "            sigma = sum(A[i][j] * x_neu[j] for j in range(n) if j != i)\n",
    "            x_neu[i] = (b[i] - sigma) / A[i][i]\n",
    "\n",
    "        if all(abs(x_neu[i] - x[i]) < tol for i in range(n)):\n",
    "            print(f\"Konvergenz erreicht nach {iteration + 1} Iterationen.\")\n",
    "            return x_neu\n",
    "\n",
    "        x = x_neu\n",
    "\n",
    "    raise ValueError(\"Das Gauss-Seidel-Verfahren ist innerhalb der maximalen Iterationen nicht konvergiert\")"
   ]
  },
  {
   "cell_type": "markdown",
   "metadata": {},
   "source": [
    "#### Teilaufgabe 2: Definition der Parameter und Lösung des Systems\n",
    "\n",
    "Dieser Abschnitt definiert die Parameter des elektrischen Schaltkreises, einschließlich der Widerstände `R1, R2, R3, R4` und der Spannungsquelle `U0`. Die Koeffizientenmatrix `A` und der Konstantenvektor `b` werden gemäß der Aufgabenstellung erstellt, um die Kirchhoff'schen Gesetze darzustellen. Anschließend wird das Gauss-Seidel-Verfahren aufgerufen, um die Ströme `I1, I2, I3` zu berechnen. Die berechneten Ströme werden formatiert und ausgegeben. Falls das Verfahren nicht konvergiert, wird ein Fehler ausgegeben."
   ]
  },
  {
   "cell_type": "code",
   "execution_count": 18,
   "metadata": {},
   "outputs": [
    {
     "name": "stdout",
     "output_type": "stream",
     "text": [
      "Konvergenz erreicht nach 91 Iterationen.\n",
      "I1 = 0.0747 A\n",
      "I2 = 0.0427 A\n",
      "I3 = 0.0320 A\n"
     ]
    }
   ],
   "source": [
    "R1, R2, R3, R4 = 25, 150, 200, 50\n",
    "U0 = 12\n",
    "\n",
    "# Matrizen gemäß der Aufgabenstellung\n",
    "A = [\n",
    "    [1, -1, -1],\n",
    "    [R1 + R4, R2, 0],\n",
    "    [0, -R2, R3]\n",
    "]\n",
    "b = [0, U0, 0]  # Korrektur des Vektors entsprechend der Aufgabenstellung\n",
    "\n",
    "try:\n",
    "    loesung = gauss_seidel(A, b)\n",
    "    I1, I2, I3 = loesung\n",
    "    print(f\"I1 = {I1:.4f} A\")\n",
    "    print(f\"I2 = {I2:.4f} A\")\n",
    "    print(f\"I3 = {I3:.4f} A\")\n",
    "except ValueError as e:\n",
    "    print(e)\n"
   ]
  }
 ],
 "metadata": {
  "kernelspec": {
   "display_name": "base",
   "language": "python",
   "name": "python3"
  },
  "language_info": {
   "codemirror_mode": {
    "name": "ipython",
    "version": 3
   },
   "file_extension": ".py",
   "mimetype": "text/x-python",
   "name": "python",
   "nbconvert_exporter": "python",
   "pygments_lexer": "ipython3",
   "version": "3.11.5"
  }
 },
 "nbformat": 4,
 "nbformat_minor": 2
}
