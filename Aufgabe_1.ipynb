{
 "cells": [
  {
   "cell_type": "markdown",
   "metadata": {},
   "source": [
    "## **Aufgabe 1 - Café**\n",
    "\n",
    "Euch gehört das Cafe *Central Perk*, in welchem u.a. 4 verschiedene Smoothies verkauft werden. Die notwendigen Zutaten sind wie folgt:\n",
    "\n",
    "Smoothie                    | Bananen   | Beeren    | Äpfel     | Ananas     \n",
    "--------                    | --------  | --------  | --------  | --------\n",
    "\"Going Bananas\"             | 3         | 1         | 2         | 1         \n",
    "\"Smooth Operator\"           | 1         | 1         | 1         | 1         \n",
    "\"Berry Merry\"               | 1         | 4         | 0         | 2         \n",
    "\"Pineapple Paradise Punch\"  | 1         | 2         | 2         | 3      \n",
    "\n",
    "Aufgrund eines technischen Defekts der Kasse ist nicht mehr bekannt, wie viele Smoothies am Ende eines Tages verkauft worden sind. Es ist nur bekannt, wie viele Zutaten insgesamt verbraucht worden sind:\n",
    " - 20 Bananen\n",
    " - 33 Beeren\n",
    " - 16 Äpfel\n",
    " - 27 Ananas\n",
    "\n",
    "\n",
    "\n",
    "### **Teilaufgaben**\n",
    "\n",
    "1. Leiten Sie aus den gegebenen Informationen das lineare Gleichungssystem der Form $\\boldsymbol{A} \\cdot \\boldsymbol{x} = \\boldsymbol{b}$ her, wobei $\\boldsymbol{A}$ für die Zutaten pro Smoothies steht, $\\boldsymbol{x}$ für die verkauften Smoothies und $\\boldsymbol{b}$ für die insgesamt verbrauchten Zutatten. Tragen Sie dieses Gleichungssystem hier ein.\n",
    "2. Zur Lösung der Aufgabe soll das direkte Lösungsverfahren **Gauss-Eliminierung** genutzt werden. Schreiben Sie eine Funktion namens `gauss_elimination(A, b)`. Diese soll für eine übergebene Koeffizientenmatrix `A` sowie dem konstanten Vektor `b` den berechneten Lösungsvektor zurückgeben. **Hinweis:** Nutzen Sie keine fertige Funktion von `Numpy` oder `SciPy`, sondern schreiben Sie das Lösungsverfahren selbst.\n",
    "3. Überprüfen Sie, ob die berechnete Lösung korrekt ist."
   ]
  },
  {
   "cell_type": "markdown",
   "metadata": {},
   "source": [
    "============================================================================================================================\n",
    "### **Implementierung**\n",
    "\n",
    "Mit `import numpy as np` wird die Bibliothek NumPy importiert, die später für Berechnungen verwendet wird."
   ]
  },
  {
   "cell_type": "code",
   "execution_count": 6,
   "metadata": {},
   "outputs": [],
   "source": [
    "import numpy as np"
   ]
  },
  {
   "cell_type": "markdown",
   "metadata": {},
   "source": [
    "##### Teilaufgabe 1: Definition der Matrix und des Vektors\n",
    "\n",
    "Die Matrix `A` beschreibt die Zutatenmengen, die für die verschiedenen Smoothie-Sorten benötigt werden. Jede Zeile steht für ein Rezept. Zum Beispiel braucht der erste Smoothie (erste Zeile) 3 Einheiten der ersten Zutat und jeweils 1 Einheit der zweiten, dritten und vierten Zutat.\n",
    "\n",
    "Der Vektor `b` gibt an, wie viele Einheiten von jeder Zutat insgesamt verfügbar sind. Zum Beispiel gibt es 20 Einheiten der ersten Zutat, 33 der zweiten usw."
   ]
  },
  {
   "cell_type": "code",
   "execution_count": 7,
   "metadata": {},
   "outputs": [],
   "source": [
    "A = [\n",
    "    [3, 1, 1, 1],\n",
    "    [1, 1, 4, 2],\n",
    "    [2, 1, 0, 2],\n",
    "    [1, 1, 2, 3]\n",
    "]\n",
    "\n",
    "b = [20, 33, 16, 27]"
   ]
  },
  {
   "cell_type": "markdown",
   "metadata": {},
   "source": [
    "#### Teilaufgabe 2: Implementierung der Gauss-Elimination\n",
    "\n",
    "Die Funktion löst das Gleichungssystem `A ⋅ x = b` durch Gauss-Elimination. Zuerst wird `A` in eine obere Dreiecksmatrix umgeformt, indem Zeilen getauscht und Werte in den unteren Zeilen reduziert werden, sodass `A[j][i]=0`.\n",
    "\n",
    "Danach erfolgt die Rückwärtssubstitution, beginnend mit der letzten Zeile, wobei `x[i]` berechnet wird, indem bekannte Werte subtrahiert und durch das Pivotelement `A[i][i]` geteilt wird. \n",
    "\n",
    "Am Ende gibt die Funktion den Lösungsvektor `x` zurück, der `A ⋅ x = b` erfüllt."
   ]
  },
  {
   "cell_type": "code",
   "execution_count": 8,
   "metadata": {},
   "outputs": [],
   "source": [
    "def gauss_elimination(A, b):\n",
    "    n = len(A)\n",
    "\n",
    "    # Vorwärtselimination\n",
    "    for i in range(n):\n",
    "        if A[i][i] == 0:\n",
    "            for k in range(i + 1, n):\n",
    "                if A[k][i] != 0:\n",
    "                    # Zeilen tauschen\n",
    "                    A[i], A[k] = A[k], A[i]\n",
    "                    b[i], b[k] = b[k], b[i]\n",
    "                    break\n",
    "\n",
    "        for j in range(i + 1, n):\n",
    "            if A[j][i] != 0:\n",
    "                factor = A[j][i] / A[i][i]\n",
    "                for k in range(i, n):\n",
    "                    A[j][k] -= factor * A[i][k]\n",
    "                b[j] -= factor * b[i]\n",
    "\n",
    "    # Rückwärtssubstitution\n",
    "    x = [0] * n\n",
    "    for i in range(n - 1, -1, -1):\n",
    "        x[i] = b[i]\n",
    "        for j in range(i + 1, n):\n",
    "            x[i] -= A[i][j] * x[j]\n",
    "        x[i] /= A[i][i]\n",
    "    return x"
   ]
  },
  {
   "cell_type": "markdown",
   "metadata": {},
   "source": [
    "#### Teilaufgabe 3: Berechnung der Lösung und Überprüfung\n",
    "\n",
    "Dieser Abschnitt berechnet die Lösung des Gleichungssystems `A ⋅ x = b` mithilfe der zuvor implementierten Funktion `gauss_elimination`. Zuerst wird `A` und `b` kopiert, um sicherzustellen, dass die Originalwerte nicht verändert werden. Die Funktion liefert einen Lösungsvektor, der anschließend auf ganze Zahlen gerundet wird, indem jede Komponente mit `round` gerundet und in einen Integer umgewandelt wird."
   ]
  },
  {
   "cell_type": "code",
   "execution_count": 9,
   "metadata": {},
   "outputs": [
    {
     "name": "stdout",
     "output_type": "stream",
     "text": [
      "Lösung: [3, 2, 5, 4]\n"
     ]
    }
   ],
   "source": [
    "solution = gauss_elimination([row[:] for row in A], b[:])\n",
    "solution = [int(round(val)) for val in solution]  # Runden der Werte auf eine Nullkommastelle\n",
    "print(\"Lösung:\", solution)"
   ]
  },
  {
   "cell_type": "markdown",
   "metadata": {},
   "source": [
    "#### Überprüfung der Lösung\n",
    "\n",
    "Dieser Abschnitt überprüft, ob die berechnete Lösung `x` das Gleichungssystem `A ⋅ x = b` erfüllt.\n",
    "\n",
    "Zuerst werden die Matrix `A`, der Vektor `b` und die Lösung `x` in NumPy-Arrays umgewandelt, um effiziente Berechnungen zu ermöglichen. Mit `np.dot(A_np, solution_np)` wird die Matrix-Vektor-Multiplikation durchgeführt, um `A ⋅ x` zu berechnen. Anschließend wird mit `np.allclose` geprüft, ob das Ergebnis nahe genug an `b` liegt, um numerische Rundungsfehler zu berücksichtigen.\n",
    "\n",
    "Je nachdem, ob die Überprüfung erfolgreich ist, wird eine entsprechende Meldung (`True` oder `False`) ausgegeben.\n",
    "\n",
    "**Im Falle der Daten in dieser Aufgabe ergibt die Überprüfung eine korrekte Lösung.**"
   ]
  },
  {
   "cell_type": "code",
   "execution_count": 10,
   "metadata": {},
   "outputs": [
    {
     "name": "stdout",
     "output_type": "stream",
     "text": [
      "Überprüfung (A * x == b): True\n"
     ]
    }
   ],
   "source": [
    "A_np = np.array(A, dtype=float)\n",
    "b_np = np.array(b, dtype=float)\n",
    "solution_np = np.array(solution, dtype=float)\n",
    "\n",
    "if np.allclose(np.dot(A_np, solution_np), b_np):\n",
    "    print(\"Überprüfung (A * x == b): True\")\n",
    "else:\n",
    "    print(\"Überprüfung (A * x == b): False\")"
   ]
  }
 ],
 "metadata": {
  "kernelspec": {
   "display_name": "base",
   "language": "python",
   "name": "python3"
  },
  "language_info": {
   "codemirror_mode": {
    "name": "ipython",
    "version": 3
   },
   "file_extension": ".py",
   "mimetype": "text/x-python",
   "name": "python",
   "nbconvert_exporter": "python",
   "pygments_lexer": "ipython3",
   "version": "3.11.5"
  }
 },
 "nbformat": 4,
 "nbformat_minor": 2
}
