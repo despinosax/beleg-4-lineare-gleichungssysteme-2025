{
 "cells": [
  {
   "cell_type": "markdown",
   "metadata": {},
   "source": [
    "## **Aufgabe 3 - Stabwerk**\n",
    "\n",
    "Gegeben ist ein gleichschenkliges Stabwerk. Dieses besteht aus Stäben $s1$, $s2$ und $s3$ mit den Knoten $A(0,0)$, $B(1,1.5)$ und $C(2,0)$. Dabei ist Knoten $A$ ein Festlager und Knoten $C$ ein Loslager. Im folgenden ist das Stabwerk maßstäblich dargestellt mit der $x$-Achse in horizontaler Richtung und der $y$-Achse in vertikaler Richtung:\n",
    "\n",
    "![alt text](Abbildungen/stabwerk_aufgabe.png)\n",
    "\n",
    "Im Knoten $B$ greift eine Kraft $\\boldsymbol{F}$ an mit den Komponenten $\\boldsymbol{F} = [-1, -1]\\,\\text{N}$.\n",
    "\n",
    "\n",
    "### **Teilaufgaben**\n",
    "\n",
    "1. Leiten Sie aus der Skizze das lineare Gleichungssystem der Form $\\boldsymbol{A} \\cdot \\boldsymbol{x} = \\boldsymbol{b}$ her, welches das gezeigte Fachwerk beschreibt und tragen Sie es hier ein. Dabei steht der Lösungsvektor $\\boldsymbol{x}$ für die Stab- und Lagerkräfte im Stabwerk.\n",
    "2. Berechnen Sie die Stab- und Lagerkräfte mit Hilfe der Numpy-Funktion [`numpy.linalg.solve`](https://numpy.org/doc/stable/reference/generated/numpy.linalg.solve.html), welche direkt ein System von linearen Gleichungssystemen iterativ lösen kann. Geben Sie die berechneten Kräfte formatiert aus."
   ]
  },
  {
   "cell_type": "markdown",
   "metadata": {},
   "source": [
    "### **Hinweise**\n",
    "\n",
    "Insgesamt gibt es in dieser Aufgabe 6 unbekannte Größen: Die Stabkräfte $F_{s1}$, $F_{s2}$ und $F_{s3}$, die Lagerkräfte im Knoten $A$ in $x$- und $y$-Richtung $F_{Ax}$ und $F_{Ay}$ sowie die Lagerkraft im Knoten $C$ in $y$-Richtung $F_{Cy}$. Daher müssen ebenfalls 6 Gleichungen aufgestellt werden, um die gesuchten Größen berechnen zu können.\n",
    "\n",
    "Diese 6 Gleichungen erhält man, indem man in den drei Knotenpunkten jeweils das Kräftegleichgewicht in $x$- und $y$-Richtung aufstellt. Beispielhaft soll dieses Vorgehen am Knoten $A$ erläutert werden. In folgender Abbildung sind die Stabkräfte $F_{s1}$ und $F_{s2}$ sowie die Lagerkräfte in Knoten $A$ angezeichnet:\n",
    "\n",
    "![alt text](Abbildungen/stabwerk_erlaeuterung.png)\n",
    "\n",
    "Die zwei Kräftegleichgewichte in $x$- und $y$-Richtung lauten dann wie folgt:\n",
    "\n",
    "$$ \\begin{align*} F_{s1} \\cos{\\alpha} + F_{s3} + F_{Ax}&= 0 \\\\ F_{s1} \\sin{\\alpha} + F_{Ay} &= 0 \\end{align*} $$\n",
    "\n",
    "Analog werden die Kräftegleichgewichte in den Knotenpunkten $B$ und $C$ gebildet. Anschließend können die Koeffizienten für die Koeffizientenmatrix und der konstante Vektor aufgestellt werden."
   ]
  },
  {
   "cell_type": "markdown",
   "metadata": {},
   "source": [
    "============================================================================================================================\n",
    "### **Implementierung**\n",
    "\n",
    "#### Teilaufgabe 1: Ableiten des linearen Gleichungssystems\n",
    "\n",
    "Die Bibliothek `numpy` wird speziell genutzt, um das lineare Gleichungssystem zu lösen und trigonometrische Funktionen wie den Kosinus, den Sinus und den Arkustangens zu berechnen.\n",
    "\n",
    "In dieser Abschnitt berechnet der Code die Winkel `alpha` und `Beta` basierend auf der Geometrie. \n",
    "\n",
    "Die Matrix `A` beschreibt die Kräftegleichgewichte, und der Vektor `b` repräsentiert die externen Kräfte am Knoten **B** (obersten). Diese werden verwendet, um die unbekannten Kräfte im System zu berechnen."
   ]
  },
  {
   "cell_type": "code",
   "execution_count": 10,
   "metadata": {},
   "outputs": [],
   "source": [
    "import numpy as np\n",
    "\n",
    "alpha = np.arctan(1.5)\n",
    "Beta = np.pi - 2 * alpha\n",
    "\n",
    "A = [\n",
    "    [np.cos(alpha), 0, 1, 1, 0, 0],\n",
    "    [np.sin(alpha), 0, 0, 0, 1, 0],\n",
    "    [0, np.cos(alpha), 1, 0, 0, 0],\n",
    "    [0, np.sin(alpha), 0, 0, 0, 1],\n",
    "    [-np.sin(Beta/2), np.sin(Beta/2), 0, 0, 0, 0],\n",
    "    [-np.cos(Beta/2), -np.cos(Beta/2), 0, 0, 0, 0]\n",
    "]\n",
    "\n",
    "b = [0, 0, 0, 0, -1, -1]"
   ]
  },
  {
   "cell_type": "markdown",
   "metadata": {},
   "source": [
    "#### Teilaufgabe 2: Berechnung der Kräfte mit numpy.linalg.solve\n",
    "\n",
    "In dieser Abschnitt wird das lineare Gleichungssystem mithilfe von `numpy.linalg.solve` gelöst. Die berechneten Kräfte werden anschließend in einer Schleife verarbeitet und ausgegeben. Dabei werden die Stabkräfte sowie die Lagerkräfte in den Knoten **A** und **C** klar dargestellt."
   ]
  },
  {
   "cell_type": "code",
   "execution_count": 11,
   "metadata": {},
   "outputs": [
    {
     "name": "stdout",
     "output_type": "stream",
     "text": [
      "Stabkraft S_1: 1.50 N\n",
      "Stabkraft S_2: -0.30 N\n",
      "Stabkraft S_3: 0.17 N\n",
      "Lagerkraft in A, F_Ax: -1.00 N\n",
      "Lagerkraft in A, F_Ay: -1.25 N\n",
      "Lagerkraft in C, F_Cy: 0.25 N\n"
     ]
    }
   ],
   "source": [
    "x = np.linalg.solve(A, b)\n",
    "\n",
    "for i, force in enumerate(x, start=1):\n",
    "    if 1 <= i <= 3:\n",
    "        print(f\"Stabkraft S_{i}: {force:.2f} N\")\n",
    "    elif i == 4:\n",
    "        print(f\"Lagerkraft in A, F_Ax: {force:.2f} N\")\n",
    "    elif i == 5:\n",
    "        print(f\"Lagerkraft in A, F_Ay: {force:.2f} N\")\n",
    "    elif i == 6:\n",
    "        print(f\"Lagerkraft in C, F_Cy: {force:.2f} N\")"
   ]
  }
 ],
 "metadata": {
  "kernelspec": {
   "display_name": "base",
   "language": "python",
   "name": "python3"
  },
  "language_info": {
   "codemirror_mode": {
    "name": "ipython",
    "version": 3
   },
   "file_extension": ".py",
   "mimetype": "text/x-python",
   "name": "python",
   "nbconvert_exporter": "python",
   "pygments_lexer": "ipython3",
   "version": "3.11.5"
  }
 },
 "nbformat": 4,
 "nbformat_minor": 2
}
